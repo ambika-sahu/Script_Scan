{
  "nbformat": 4,
  "nbformat_minor": 0,
  "metadata": {
    "colab": {
      "provenance": []
    },
    "kernelspec": {
      "name": "python3",
      "display_name": "Python 3"
    },
    "language_info": {
      "name": "python"
    }
  },
  "cells": [
    {
      "cell_type": "code",
      "execution_count": 2,
      "metadata": {
        "id": "7WQjqdeYihzs"
      },
      "outputs": [],
      "source": [
        "!wget -q https://git.io/J0fjL -O IAM_Words.zip\n",
        "!unzip -qq IAM_Words.zip\n",
        "\n",
        "!mkdir data\n",
        "!mkdir data/words\n",
        "!tar -xf IAM_Words/words.tgz -C data/words\n",
        "!mv IAM_Words/words.txt data"
      ]
    },
    {
      "cell_type": "code",
      "source": [
        "!head -20 data/words.txt"
      ],
      "metadata": {
        "id": "jSCF--xrkLzw"
      },
      "execution_count": null,
      "outputs": []
    },
    {
      "cell_type": "code",
      "source": [
        "!pip install --upgrade tensorflow"
      ],
      "metadata": {
        "id": "1d3NNueRllBK"
      },
      "execution_count": null,
      "outputs": []
    },
    {
      "cell_type": "markdown",
      "source": [
        "imports"
      ],
      "metadata": {
        "id": "7zoS3waakgzV"
      }
    },
    {
      "source": [
        "# Instead of:\n",
        "# from tensorflow.keras.layers.preprocessing import StringLookup\n",
        "\n",
        "# Use:\n",
        "from tensorflow.keras.layers import StringLookup # Import StringLookup directly from tf.keras.layers\n",
        "\n",
        "from tensorflow import keras\n",
        "\n",
        "import matplotlib.pyplot as plt\n",
        "import tensorflow as tf\n",
        "import numpy as np\n",
        "import os\n",
        "\n",
        "np.random.seed(42)\n",
        "tf.random.set_seed(42)"
      ],
      "cell_type": "code",
      "metadata": {
        "id": "rUXTpbvxnCGI"
      },
      "execution_count": 5,
      "outputs": []
    },
    {
      "cell_type": "markdown",
      "source": [
        "dataset soliting"
      ],
      "metadata": {
        "id": "ikCJ82bWnOMo"
      }
    },
    {
      "cell_type": "code",
      "source": [
        "base_path = \"data\"\n",
        "words_list = []\n",
        "\n",
        "words = open(f\"{base_path}/words.txt\", \"r\").readlines()\n",
        "for line in words:\n",
        "  if line[0]==\"#\":\n",
        "      continue\n",
        "  if line.split(\" \") [1] != \"err\":\n",
        "    words_list.append(line)\n",
        "\n",
        "len(words_list)\n",
        "\n",
        "np.random.shuffle(words_list)"
      ],
      "metadata": {
        "id": "Kjf_8-u-nQrz"
      },
      "execution_count": 6,
      "outputs": []
    },
    {
      "cell_type": "code",
      "source": [
        "print(words_list[0:10])"
      ],
      "metadata": {
        "id": "AYr76U9RoN3K"
      },
      "execution_count": null,
      "outputs": []
    },
    {
      "cell_type": "code",
      "source": [
        "from posixpath import split\n",
        "split_idx = int(0.9 * len(words_list))\n",
        "train_samples = words_list[:split_idx]\n",
        "test_samples = words_list[split_idx:]\n",
        "\n",
        "val_split_idx = int(0.5 * len(test_samples))\n",
        "validation_samples = test_samples[:val_split_idx]\n",
        "test_samples = test_samples[val_split_idx:]\n",
        "\n",
        "assert len(words_list) == len(train_samples) + len(validation_samples) + len(test_samples)\n",
        "\n",
        "print(f\"Total training samples: {len(train_samples)}\")\n",
        "print(f\"Total validation samples: {len(validation_samples)}\")\n",
        "print(f\"Total test samples: {len(test_samples)}\")"
      ],
      "metadata": {
        "id": "i5ZK6VRMrEco"
      },
      "execution_count": null,
      "outputs": []
    },
    {
      "cell_type": "code",
      "source": [
        "from sys import path\n",
        "base_image_path = os.path.join(base_path, \"words\")\n",
        "\n",
        "def get_image_paths_and_labels(samples):\n",
        "    paths = []\n",
        "    corrected_samples = []\n",
        "    for (i, file_line) in enumerate(samples):\n",
        "      line_split = file_line.strip()\n",
        "      line_split = line_split.split(\" \")\n",
        "#Each line split will have this format for the corresponding image:\n",
        "# part1/part1-part2/part1-part2-part3.png\n",
        "      image_name = line_split[0]\n",
        "      partI = image_name.split(\"-\")[0]\n",
        "      partII = image_name.split(\"-\")[1]\n",
        "      img_path = os.path.join(\n",
        "          base_image_path, partI, partI + \"-\" + partII, image_name + \".png\"\n",
        "      )\n",
        "      if os.path.getsize(img_path):\n",
        "          paths.append(img_path)\n",
        "          corrected_samples.append(file_line.split(\"\\n\")[0])\n",
        "\n",
        "    return paths, corrected_samples\n",
        "\n",
        "train_img_paths, train_labels = get_image_paths_and_labels(train_samples)\n",
        "validation_img_paths, validation_labels = get_image_paths_and_labels(validation_samples)\n",
        "test_img_paths, test_labels = get_image_paths_and_labels(test_samples)"
      ],
      "metadata": {
        "id": "HUv4KAn9r8k0"
      },
      "execution_count": 9,
      "outputs": []
    },
    {
      "cell_type": "code",
      "source": [
        "train_img_paths[0:10]"
      ],
      "metadata": {
        "id": "8F0flBukwk0g"
      },
      "execution_count": null,
      "outputs": []
    },
    {
      "cell_type": "code",
      "source": [
        "train_labels[0:10]"
      ],
      "metadata": {
        "id": "AtWknuSIw0_1"
      },
      "execution_count": null,
      "outputs": []
    },
    {
      "cell_type": "code",
      "source": [
        "train_labels_cleaned = []\n",
        "characters = set()\n",
        "max_len = 0\n",
        "\n",
        "for label in train_labels:\n",
        "  label = label.split(\" \")[-1].strip()\n",
        "  for char in label:\n",
        "    characters.add(char)\n",
        "\n",
        "  max_len = max(max_len, len(label))\n",
        "  train_labels_cleaned.append(label)\n",
        "\n",
        "# Now print the results outside the loop\n",
        "print(f\"Maximum length: {max_len}\")\n",
        "print(f\"Vocab size: {len(characters)}\")\n",
        "\n",
        "# Check some label samples\n",
        "train_labels_cleaned[:10]\n"
      ],
      "metadata": {
        "id": "E0l11tj6Uwkt"
      },
      "execution_count": null,
      "outputs": []
    },
    {
      "cell_type": "markdown",
      "source": [
        "then we prepare ground-truth labels"
      ],
      "metadata": {
        "id": "g9kn5Ltjw9y6"
      }
    },
    {
      "cell_type": "markdown",
      "source": [
        "now we clean the validation and test lables as well"
      ],
      "metadata": {
        "id": "g4gPEyOHyfXF"
      }
    },
    {
      "cell_type": "code",
      "source": [
        "def clean_labels(labels):\n",
        "    cleaned_labels = []\n",
        "    for label in labels:\n",
        "        label = label.split(\" \")[-1].strip()\n",
        "        cleaned_labels.append(label)\n",
        "    return cleaned_labels\n",
        "\n",
        "validation_labels_cleaned = clean_labels(validation_labels)\n",
        "test_labels_cleaned = clean_labels(test_labels)"
      ],
      "metadata": {
        "id": "EU1qHbM6yojh"
      },
      "execution_count": 13,
      "outputs": []
    },
    {
      "cell_type": "markdown",
      "source": [
        "building the character vocabulary"
      ],
      "metadata": {
        "id": "Bucr6pTXy_oy"
      }
    },
    {
      "cell_type": "code",
      "source": [
        "AUTOTUNE = tf.data.AUTOTUNE\n",
        "\n",
        "# Mapping characters to integers\n",
        "char_to_num = StringLookup(\n",
        "    vocabulary=list(characters), mask_token=None\n",
        ")\n",
        "\n",
        "# mapping integer to character\n",
        "num_to_char = StringLookup(\n",
        "    vocabulary=char_to_num.get_vocabulary(), mask_token=None, invert=True\n",
        ")"
      ],
      "metadata": {
        "id": "KGY07jIAzJRg"
      },
      "execution_count": 14,
      "outputs": []
    },
    {
      "cell_type": "markdown",
      "source": [
        "Resizing image without distortion"
      ],
      "metadata": {
        "id": "IFm0xNXYzmUg"
      }
    },
    {
      "cell_type": "code",
      "source": [
        "def distortion_free_resize(image, img_size):\n",
        "    w, h = img_size\n",
        "    image = tf.image.resize(image, size=(h, w), preserve_aspect_ratio=True)\n",
        "\n",
        "    # check the amount of padding need to be done\n",
        "    pad_height = h - tf.shape(image)[0]\n",
        "    pad_width = w - tf.shape(image)[1]\n",
        "\n",
        "    # only works for even dimensions\n",
        "    if pad_height % 2 != 0:\n",
        "        height = pad_height // 2\n",
        "        pad_height_top = height + 1\n",
        "        pad_height_bottom = height\n",
        "    else:\n",
        "        pad_height_top = pad_height_bottom = pad_height //2\n",
        "\n",
        "    if pad_width % 2 != 0:\n",
        "        width  = pad_width // 2\n",
        "        pad_width_left = width + 1\n",
        "        pad_width_right = width\n",
        "    else:\n",
        "        pad_width_left  = pad_width_right = pad_width // 2\n",
        "\n",
        "    image = tf.pad(\n",
        "        image,\n",
        "        paddings=[\n",
        "          [pad_height_top, pad_height_bottom],\n",
        "          [pad_width_left, pad_width_right],\n",
        "          [0, 0],\n",
        "        ],\n",
        "  )\n",
        "\n",
        "    image = tf.transpose(image, perm=[1, 0, 2])\n",
        "    image = tf.image.flip_left_right(image)\n",
        "    return image"
      ],
      "metadata": {
        "id": "PnanHhW-zvqe"
      },
      "execution_count": 15,
      "outputs": []
    },
    {
      "cell_type": "code",
      "source": [
        "batch_size = 64\n",
        "padding_token = 99\n",
        "image_width = 128\n",
        "image_height = 32\n",
        "\n",
        "def preprocess_image(image_path, img_size=(image_width, image_height)):\n",
        "    image = tf.io.read_file(image_path)\n",
        "    image = tf.image.decode_png(image, 1)\n",
        "    image = distortion_free_resize(image, img_size)\n",
        "    image = tf.cast(image, tf.float32) / 255.0\n",
        "    return image\n",
        "\n",
        "def vectorize_label(label):\n",
        "    label = char_to_num(tf.strings.unicode_split(label, input_encoding=\"UTF-8\"))\n",
        "    length = tf.shape(label)[0]\n",
        "    pad_amount = max_len - length\n",
        "    label = tf.pad(label, paddings=[[0, pad_amount]], constant_values=padding_token)\n",
        "    return label\n",
        "\n",
        "def process_images_labels(image_path, label):\n",
        "    image = preprocess_image(image_path)\n",
        "    label = vectorize_label(label)\n",
        "    return {\"image\": image, \"label\": label}\n",
        "\n",
        "def prepare_dataset(image_paths, labels):\n",
        "    dataset = tf.data.Dataset.from_tensor_slices((image_paths, labels)).map(\n",
        "        process_images_labels, num_parallel_calls=AUTOTUNE\n",
        "    )\n",
        "    return dataset.batch(batch_size).cache().prefetch(AUTOTUNE)"
      ],
      "metadata": {
        "id": "pFWAJQhH5YyG"
      },
      "execution_count": 16,
      "outputs": []
    },
    {
      "cell_type": "markdown",
      "source": [
        "prepare tf data Dataset object"
      ],
      "metadata": {
        "id": "6qgw83n66gZl"
      }
    },
    {
      "cell_type": "code",
      "source": [
        "train_ds = prepare_dataset(train_img_paths, train_labels_cleaned)\n",
        "validation_ds = prepare_dataset(validation_img_paths, validation_labels_cleaned)\n",
        "test_ds = prepare_dataset(test_img_paths, test_labels_cleaned)"
      ],
      "metadata": {
        "id": "OSmWviAV6umT"
      },
      "execution_count": 17,
      "outputs": []
    },
    {
      "cell_type": "markdown",
      "source": [
        "visualize few sample"
      ],
      "metadata": {
        "id": "8ErZwjqQ7FgA"
      }
    },
    {
      "cell_type": "code",
      "source": [
        "for data in train_ds.take(1):\n",
        "    images, labels = data[\"image\"], data[\"label\"]\n",
        "    _, ax = plt.subplots(4, 4, figsize=(15, 8))\n",
        "    for i in range(16):\n",
        "        img = images[i]\n",
        "        img = tf.image.flip_left_right(img)\n",
        "        img = tf.transpose(img, perm=[1, 0, 2])\n",
        "        img = (img * 255.0).numpy().clip(0, 255).astype(np.uint8)\n",
        "        img = img[:, :, 0]\n",
        "        label = labels[i]\n",
        "        indices = tf.gather(label, tf.where(tf.math.not_equal(label, padding_token)))\n",
        "        label = tf.strings.reduce_join(num_to_char(indices))\n",
        "        label = label.numpy().decode(\"utf-8\")\n",
        "        ax[i//4, i % 4].imshow(img, cmap=\"gray\")\n",
        "        ax[i//4, i % 4].set_title(label)\n",
        "        ax[i//4, i % 4].axis(\"off\")\n",
        "\n",
        "plt.show()"
      ],
      "metadata": {
        "id": "7Xn1RhhZ7Jb7"
      },
      "execution_count": null,
      "outputs": []
    },
    {
      "cell_type": "markdown",
      "source": [
        "Model"
      ],
      "metadata": {
        "id": "O8rASB7g-KzI"
      }
    },
    {
      "cell_type": "code",
      "source": [
        "class CTCLayer(keras.layers.Layer):\n",
        "    def __init__(self, name=None):\n",
        "        super().__init__(name=name)\n",
        "        self.loss_fn = keras.backend.ctc_batch_cost\n",
        "\n",
        "    def call(self, y_true, y_pred):\n",
        "        batch_len = tf.cast(tf.shape(y_true)[0], dtype=\"int64\")\n",
        "        input_length = tf.cast(tf.shape(y_pred)[1], dtype=\"int64\")\n",
        "        label_length = tf.cast(tf.shape(y_true)[1], dtype=\"int64\")\n",
        "\n",
        "        input_length = input_length * tf.ones(shape=(batch_len, 1), dtype=\"int64\")\n",
        "        label_length = label_length * tf.ones(shape=(batch_len, 1), dtype=\"int64\")\n",
        "        loss = self.loss_fn(y_true, y_pred, input_length, label_length)\n",
        "        self.add_loss(loss)\n",
        "\n",
        "        # At test time, just return the computed predictions\n",
        "        return y_pred\n",
        "\n",
        "def build_model():\n",
        "    input_img = keras.Input(shape=(image_width, image_height, 1), name=\"image\")\n",
        "    labels = keras.layers.Input(name=\"label\", shape=(None,))\n",
        "    x = keras.layers.Conv2D(\n",
        "        32,\n",
        "        (3, 3),\n",
        "        activation=\"relu\",\n",
        "        kernel_initializer=\"he_normal\",\n",
        "        padding=\"same\",\n",
        "        name=\"Conv1\",\n",
        "    )(input_img)\n",
        "    x = keras.layers.MaxPooling2D((2, 2), name=\"pool1\")(x)\n",
        "\n",
        "\n",
        "    x = keras.layers.Conv2D(\n",
        "        64,\n",
        "        (3, 3),\n",
        "        activation=\"relu\",\n",
        "        kernel_initializer=\"he_normal\",\n",
        "        padding=\"same\",\n",
        "        name=\"Conv2\",\n",
        "    )(x)\n",
        "    x = keras.layers.MaxPooling2D((2, 2), name=\"pool2\")(x)\n",
        "\n",
        "\n",
        "    # parsing to the output\n",
        "    new_shape = ((image_width // 4), (image_height // 4) * 64)\n",
        "    x = keras.layers.Reshape(target_shape=new_shape, name=\"reshape\")(x)\n",
        "    x = keras.layers.Dense(64, activation=\"relu\", name=\"dense1\")(x)\n",
        "    x = keras.layers.Dropout(0.2)(x)\n",
        "\n",
        "    # RNNs\n",
        "    x = keras.layers.Bidirectional(\n",
        "        keras.layers.LSTM(128, return_sequences=True, dropout=0.25)\n",
        "    )(x)\n",
        "    x = keras.layers.Bidirectional(\n",
        "        keras.layers.LSTM(64, return_sequences=True, dropout=0.25)\n",
        "    )(x)\n",
        "    x = keras.layers.Dense(\n",
        "        len(char_to_num.get_vocabulary()) + 1, activation=\"softmax\", name=\"dense2\"\n",
        "    )(x)\n",
        "\n",
        "    # add CTC layer for claculating Ctc loss at each step\n",
        "    output = CTCLayer(name=\"ctc_loss\")(labels, x)\n",
        "\n",
        "    # define the model\n",
        "    model = keras.models.Model(\n",
        "        inputs=[input_img, labels], outputs=output, name=\"handwriting_recognizer\"\n",
        "    )\n",
        "\n",
        "    # define the model\n",
        "    opt = keras.optimizers.Adam()\n",
        "    model.compile(optimizer=opt)\n",
        "    return model\n",
        "\n",
        "model = build_model()\n",
        "model.summary()"
      ],
      "metadata": {
        "id": "Fyf_OD_6-ND8"
      },
      "execution_count": null,
      "outputs": []
    },
    {
      "cell_type": "markdown",
      "source": [
        "Evaluation matric"
      ],
      "metadata": {
        "id": "gNUdQRMEFGug"
      }
    },
    {
      "cell_type": "code",
      "source": [
        "validation_imqges = []\n",
        "validation_labels = []\n",
        "\n",
        "for batch in validation_ds:\n",
        "    validation_imqges.append(batch[\"image\"])\n",
        "    validation_labels.append(batch[\"label\"])"
      ],
      "metadata": {
        "id": "ZWSStQRkFJ4T"
      },
      "execution_count": 20,
      "outputs": []
    },
    {
      "cell_type": "markdown",
      "source": [
        "Now we create a call back for monitoring the editdistance"
      ],
      "metadata": {
        "id": "gWXwo69hF6-o"
      }
    },
    {
      "cell_type": "code",
      "source": [
        "def claculate_edit_distance(labels, predictions):\n",
        "    saprse_lables = tf.cast(tf.sparse.from_dense(labels), dtype=tf.int64)\n",
        "\n",
        "    # make pridiction and conver them into sparse\n",
        "    input_len = np.ones(predictions.shape[0]) * predictions.shape[1]\n",
        "    predictions_decoded = keras.backend.ctc_decode(\n",
        "        predictions, input_length=input_len, greedy=True)[0][0][:,:max_len]\n",
        "    sparse_predictions = tf.cast(tf.sparse.from_dense(predictions_decoded), dtype=tf.int64)\n",
        "\n",
        "    # compute the edit distance\n",
        "    edit_distances = tf.edit_distance(sparse_predictions, saprse_lables, normalize=False)\n",
        "    return tf.reduce_mean(edit_distances)\n",
        "\n",
        "\n",
        "class EditDistanceCallback(keras.callbacks.Callback):\n",
        "    def __init__(self, pred_model):\n",
        "        super().__init__()\n",
        "        self.prediction_model = pred_model\n",
        "\n",
        "    def on_epoch_end(self, epoch, logs=None):\n",
        "        edit_distances = []\n",
        "        for i in range(len(validation_labels)):\n",
        "            labels = validation_labels[i]\n",
        "            predictions = self.prediction_model.predict(validation_imqges[i])\n",
        "            edit_distances.append(claculate_edit_distance(labels, predictions).numpy())\n",
        "\n",
        "        print(f\"Mean edit distance for epoch {epoch + 1}: {np.mean(edit_distances):.4f}\")"
      ],
      "metadata": {
        "id": "KbbDrfLpGDvl"
      },
      "execution_count": 21,
      "outputs": []
    },
    {
      "cell_type": "markdown",
      "source": [
        "Tranning"
      ],
      "metadata": {
        "id": "joo96wosIQh6"
      }
    },
    {
      "cell_type": "code",
      "source": [
        "# Step 1: Install Required Libraries\n",
        "!pip install easyocr\n",
        "!pip install opencv-python-headless\n",
        "\n",
        "# Step 2: Import Libraries\n",
        "import easyocr\n",
        "import cv2\n",
        "from google.colab import files\n",
        "\n",
        "# Step 3: Preprocess Image to Improve OCR Accuracy\n",
        "def preprocess_image(image_path):\n",
        "    \"\"\"\n",
        "    Preprocess the image by converting it to grayscale and applying binary thresholding.\n",
        "    \"\"\"\n",
        "    try:\n",
        "        image = cv2.imread(image_path, cv2.IMREAD_GRAYSCALE)  # Load image in grayscale\n",
        "        if image is None:\n",
        "            raise ValueError(f\"Could not load image: {image_path}\")\n",
        "        _, processed_image = cv2.threshold(image, 128, 255, cv2.THRESH_BINARY)  # Apply binary thresholding\n",
        "        cv2.imwrite(image_path, processed_image)  # Overwrite the original image with the processed version\n",
        "        return image_path\n",
        "    except Exception as e:\n",
        "        print(f\"Error preprocessing image {image_path}: {e}\")\n",
        "        return None\n",
        "\n",
        "# Step 4: Extract Text from Images and Save to File\n",
        "def save_all_text(images, output_file):\n",
        "    \"\"\"\n",
        "    Extract text from multiple images using EasyOCR and save all extracted text to a single file.\n",
        "    \"\"\"\n",
        "    reader = easyocr.Reader(['en'])  # Initialize EasyOCR\n",
        "    extracted_texts = []\n",
        "\n",
        "    with open(output_file, 'w') as file:\n",
        "        for image in images:\n",
        "            print(f\"Processing {image}...\")\n",
        "            try:\n",
        "                # Preprocess the image\n",
        "                preprocessed_image = preprocess_image(image)\n",
        "                if preprocessed_image is None:\n",
        "                    continue\n",
        "\n",
        "                # Extract text\n",
        "                text = reader.readtext(preprocessed_image, detail=0)\n",
        "                if text:\n",
        "                    extracted_texts.append((image, text))\n",
        "                    file.write(f\"Text from {image}:\\n\")\n",
        "                    file.write('\\n'.join(text) + '\\n\\n')\n",
        "                    print(f\"Extracted text: {text}\")\n",
        "                else:\n",
        "                    print(f\"No text detected in {image}.\")\n",
        "                    file.write(f\"Text from {image}:\\nNo text detected.\\n\\n\")\n",
        "            except Exception as e:\n",
        "                print(f\"Error processing {image}: {e}\")\n",
        "    print(f\"All extracted text has been saved to {output_file}\")\n",
        "    return extracted_texts\n",
        "\n",
        "# Step 5: Upload Images to Colab\n",
        "print(\"Please upload your images (e.g., PNG, JPG):\")\n",
        "uploaded = files.upload()\n",
        "\n",
        "# Step 6: Process Uploaded Images\n",
        "image_paths = list(uploaded.keys())  # Get the list of uploaded image filenames\n",
        "output_file = \"all_extracted_text.txt\"  # Output file for extracted text\n",
        "\n",
        "extracted_texts = save_all_text(image_paths, output_file)\n",
        "\n",
        "# Step 7: Download the Output File\n",
        "print(\"Download the extracted text file:\")\n",
        "files.download(output_file)\n",
        "\n",
        "# Debugging: Print extracted text for review\n",
        "if extracted_texts:\n",
        "    for image, text in extracted_texts:\n",
        "        print(f\"\\nText from {image}:\\n{' '.join(text)}\")\n",
        "else:\n",
        "    print(\"No text was extracted. Check image quality or preprocessing.\")\n"
      ],
      "metadata": {
        "id": "9RxwEFJUWG9d"
      },
      "execution_count": null,
      "outputs": []
    }
  ]
}